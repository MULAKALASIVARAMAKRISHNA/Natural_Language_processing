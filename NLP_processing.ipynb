{
 "cells": [
  {
   "cell_type": "code",
   "execution_count": 16,
   "id": "f63a7aab",
   "metadata": {},
   "outputs": [
    {
     "name": "stdout",
     "output_type": "stream",
     "text": [
      "Enter '1' for real-time audio input (30 seconds) Enter 2 for upload audio file: 2\n",
      "Enter the path to the audio file: C:/Users/mulak/OneDrive/Desktop/english-lucy_uLOBNY9x (mp3cut.net).mp3\n",
      " video. It contains all of the vocabulary, phonetic transcriptions to help with your pronunciation, extra examples and a quiz at the end to test your understanding. If you'd like to download that, just click on the link in the description box, enter your name and your email address, you sign up to my mailing list, and the PDF will arrive directly in your inbox.\n",
      "Program finished.\n"
     ]
    }
   ],
   "source": [
    "import librosa\n",
    "import whisper\n",
    "import pyaudio\n",
    "import numpy as np\n",
    "import time\n",
    "\n",
    "# Load Whisper model (ensure correct path and accessibility)\n",
    "# Force the model to use the CPU\n",
    "model = whisper.load_model('base', device='cpu')  # Adjust model name as needed\n",
    "# Display text \n",
    "def display_text(text):\n",
    "    print(text)\n",
    "# Transcription output function (returns text)\n",
    "def transcribe_audio(audio_data):\n",
    "    # Convert audio data to float32 if necessary\n",
    "    if audio_data.dtype != np.float32:\n",
    "        audio_data = audio_data.astype(np.float32)\n",
    "    result = model.transcribe(audio_data)\n",
    "    return result['text']\n",
    "\n",
    "# Real-time audio input function for 30 seconds\n",
    "def record_audio_30_seconds():\n",
    "    audio_chunks = []\n",
    "\n",
    "    p = pyaudio.PyAudio()\n",
    "    stream = p.open(format=pyaudio.paInt16, channels=1, rate=16000, input=True, frames_per_buffer=1024)\n",
    "\n",
    "    print(\"Recording started. Press Ctrl+C to stop early.\")\n",
    "\n",
    "    start_time = time.time()\n",
    "    try:\n",
    "        while time.time() - start_time < 30:\n",
    "            audio_bytes = stream.read(1024)\n",
    "            audio_data = np.frombuffer(audio_bytes, dtype=np.int16)\n",
    "            audio_data = audio_data.astype(np.float32)\n",
    "            audio_chunks.append(audio_data)\n",
    "    except KeyboardInterrupt:\n",
    "        print(\"\\nRecording stopped by user.\")\n",
    "    finally:\n",
    "        stream.stop_stream()\n",
    "        stream.close()\n",
    "        p.terminate()\n",
    "        print(\"Recording stopped.\")\n",
    "\n",
    "    return np.concatenate(audio_chunks)\n",
    "\n",
    "# Main program (executes only once)\n",
    "user_choice = input(\"Enter '1' for real-time audio input (30 seconds) Enter 2 for upload audio file: \")\n",
    "\n",
    "if user_choice == '1':\n",
    "    recorded_audio = record_audio_30_seconds()\n",
    "    if recorded_audio is not None:  # Check if audio was recorded\n",
    "        transcribed_text = transcribe_audio(recorded_audio)\n",
    "        print(\"\\nTranscribed Text:\", transcribed_text)\n",
    "        \n",
    "elif user_choice == '2':\n",
    "        user_audio_file = input(\"Enter the path to the audio file: \")\n",
    "        audio_data, sample_rate = librosa.load(user_audio_file, sr=16000)\n",
    "        text = transcribe_audio(audio_data)\n",
    "        display_text(text)  # Display transcribed text at the end\n",
    "        \n",
    "\n",
    "else:\n",
    "    print(\"Invalid choice.\")\n",
    "\n",
    "print(\"Program finished.\")\n"
   ]
  },
  {
   "cell_type": "code",
   "execution_count": 18,
   "id": "b58b714c",
   "metadata": {},
   "outputs": [
    {
     "data": {
      "text/plain": [
       "''"
      ]
     },
     "execution_count": 18,
     "metadata": {},
     "output_type": "execute_result"
    }
   ],
   "source": [
    "transcribed_text"
   ]
  },
  {
   "cell_type": "code",
   "execution_count": null,
   "id": "f7b1d3da",
   "metadata": {},
   "outputs": [],
   "source": []
  },
  {
   "cell_type": "code",
   "execution_count": null,
   "id": "5b96643a",
   "metadata": {},
   "outputs": [],
   "source": []
  },
  {
   "cell_type": "code",
   "execution_count": null,
   "id": "17fd5278",
   "metadata": {},
   "outputs": [],
   "source": []
  },
  {
   "cell_type": "code",
   "execution_count": null,
   "id": "3207acea",
   "metadata": {},
   "outputs": [],
   "source": []
  },
  {
   "cell_type": "code",
   "execution_count": null,
   "id": "7b414976",
   "metadata": {},
   "outputs": [],
   "source": []
  },
  {
   "cell_type": "code",
   "execution_count": null,
   "id": "e4dfdba9",
   "metadata": {},
   "outputs": [],
   "source": []
  },
  {
   "cell_type": "code",
   "execution_count": null,
   "id": "faa82e18",
   "metadata": {},
   "outputs": [],
   "source": []
  },
  {
   "cell_type": "code",
   "execution_count": null,
   "id": "c3189992",
   "metadata": {},
   "outputs": [],
   "source": []
  },
  {
   "cell_type": "code",
   "execution_count": null,
   "id": "1a8bf64f",
   "metadata": {},
   "outputs": [],
   "source": []
  },
  {
   "cell_type": "code",
   "execution_count": null,
   "id": "b89abc49",
   "metadata": {},
   "outputs": [],
   "source": []
  }
 ],
 "metadata": {
  "kernelspec": {
   "display_name": "Python 3 (ipykernel)",
   "language": "python",
   "name": "python3"
  },
  "language_info": {
   "codemirror_mode": {
    "name": "ipython",
    "version": 3
   },
   "file_extension": ".py",
   "mimetype": "text/x-python",
   "name": "python",
   "nbconvert_exporter": "python",
   "pygments_lexer": "ipython3",
   "version": "3.9.13"
  }
 },
 "nbformat": 4,
 "nbformat_minor": 5
}
